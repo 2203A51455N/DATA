{
  "nbformat": 4,
  "nbformat_minor": 0,
  "metadata": {
    "colab": {
      "provenance": [],
      "authorship_tag": "ABX9TyNZzPCKV5QVuSAEJ4fLnAZK",
      "include_colab_link": true
    },
    "kernelspec": {
      "name": "python3",
      "display_name": "Python 3"
    },
    "language_info": {
      "name": "python"
    }
  },
  "cells": [
    {
      "cell_type": "markdown",
      "metadata": {
        "id": "view-in-github",
        "colab_type": "text"
      },
      "source": [
        "<a href=\"https://colab.research.google.com/github/2203A51455N/DATA/blob/main/Week_1_Monday_28_07.ipynb\" target=\"_parent\"><img src=\"https://colab.research.google.com/assets/colab-badge.svg\" alt=\"Open In Colab\"/></a>"
      ]
    },
    {
      "cell_type": "code",
      "execution_count": null,
      "metadata": {
        "id": "FjYMfczL4Ig9"
      },
      "outputs": [],
      "source": []
    },
    {
      "cell_type": "code",
      "source": [],
      "metadata": {
        "id": "XO_0CQh15ZMI"
      },
      "execution_count": null,
      "outputs": []
    },
    {
      "cell_type": "markdown",
      "metadata": {
        "id": "ead86ec5"
      },
      "source": [
        "# Task\n",
        "Analyze student marks data to classify scores, identify patterns, and provide data-driven insights for improving academic outcomes."
      ]
    },
    {
      "cell_type": "markdown",
      "metadata": {
        "id": "678e11b6"
      },
      "source": [
        "## Data preparation & classification\n",
        "\n",
        "### Subtask:\n",
        "Create a list of 10 student marks, define a function to classify each score into \"Fail\", \"Borderline\", or \"Pass\", and convert the results into a pandas categorical column.\n"
      ]
    },
    {
      "cell_type": "markdown",
      "metadata": {
        "id": "b737f061"
      },
      "source": [
        "**Reasoning**:\n",
        "Create a list of student marks, define a function to classify scores, apply the function to the list, and create a pandas categorical Series from the results.\n",
        "\n"
      ]
    },
    {
      "cell_type": "code",
      "metadata": {
        "colab": {
          "base_uri": "https://localhost:8080/",
          "height": 397
        },
        "id": "50d0a7bf",
        "outputId": "02592596-2b70-4a3e-8eef-ef47b91970f8"
      },
      "source": [
        "import pandas as pd\n",
        "\n",
        "# 1. Create a Python list named student_marks\n",
        "student_marks = [45, 62, 78, 30, 55, 88, 69, 92, 49, 70]\n",
        "\n",
        "# 2. Define a Python function named classify_score\n",
        "def classify_score(mark):\n",
        "    if mark < 50:\n",
        "        return \"Fail\"\n",
        "    elif 50 <= mark < 70:\n",
        "        return \"Borderline\"\n",
        "    else:\n",
        "        return \"Pass\"\n",
        "\n",
        "# 3. Apply the classify_score function to each mark in the student_marks list\n",
        "classifications = [classify_score(mark) for mark in student_marks]\n",
        "\n",
        "# 4. Create a pandas Series from the list of classifications and convert to categorical\n",
        "classified_marks = pd.Series(classifications, dtype='category')\n",
        "\n",
        "# Display the classified marks\n",
        "display(classified_marks)"
      ],
      "execution_count": null,
      "outputs": [
        {
          "output_type": "display_data",
          "data": {
            "text/plain": [
              "0          Fail\n",
              "1    Borderline\n",
              "2          Pass\n",
              "3          Fail\n",
              "4    Borderline\n",
              "5          Pass\n",
              "6    Borderline\n",
              "7          Pass\n",
              "8          Fail\n",
              "9          Pass\n",
              "dtype: category\n",
              "Categories (3, object): ['Borderline', 'Fail', 'Pass']"
            ],
            "text/html": [
              "<div>\n",
              "<style scoped>\n",
              "    .dataframe tbody tr th:only-of-type {\n",
              "        vertical-align: middle;\n",
              "    }\n",
              "\n",
              "    .dataframe tbody tr th {\n",
              "        vertical-align: top;\n",
              "    }\n",
              "\n",
              "    .dataframe thead th {\n",
              "        text-align: right;\n",
              "    }\n",
              "</style>\n",
              "<table border=\"1\" class=\"dataframe\">\n",
              "  <thead>\n",
              "    <tr style=\"text-align: right;\">\n",
              "      <th></th>\n",
              "      <th>0</th>\n",
              "    </tr>\n",
              "  </thead>\n",
              "  <tbody>\n",
              "    <tr>\n",
              "      <th>0</th>\n",
              "      <td>Fail</td>\n",
              "    </tr>\n",
              "    <tr>\n",
              "      <th>1</th>\n",
              "      <td>Borderline</td>\n",
              "    </tr>\n",
              "    <tr>\n",
              "      <th>2</th>\n",
              "      <td>Pass</td>\n",
              "    </tr>\n",
              "    <tr>\n",
              "      <th>3</th>\n",
              "      <td>Fail</td>\n",
              "    </tr>\n",
              "    <tr>\n",
              "      <th>4</th>\n",
              "      <td>Borderline</td>\n",
              "    </tr>\n",
              "    <tr>\n",
              "      <th>5</th>\n",
              "      <td>Pass</td>\n",
              "    </tr>\n",
              "    <tr>\n",
              "      <th>6</th>\n",
              "      <td>Borderline</td>\n",
              "    </tr>\n",
              "    <tr>\n",
              "      <th>7</th>\n",
              "      <td>Pass</td>\n",
              "    </tr>\n",
              "    <tr>\n",
              "      <th>8</th>\n",
              "      <td>Fail</td>\n",
              "    </tr>\n",
              "    <tr>\n",
              "      <th>9</th>\n",
              "      <td>Pass</td>\n",
              "    </tr>\n",
              "  </tbody>\n",
              "</table>\n",
              "</div><br><label><b>dtype:</b> category</label>"
            ]
          },
          "metadata": {}
        }
      ]
    },
    {
      "cell_type": "markdown",
      "metadata": {
        "id": "a8978bd0"
      },
      "source": [
        "## Data exploration\n",
        "\n",
        "### Subtask:\n",
        "Display the frequency count and percentage of students in each category, and show the data type and structure of the classified data.\n"
      ]
    },
    {
      "cell_type": "markdown",
      "metadata": {
        "id": "4f22ff3d"
      },
      "source": [
        "**Reasoning**:\n",
        "Calculate and display the frequency count and percentage of each category, and display the data type and structure of the `classified_marks` Series as requested by the instructions.\n",
        "\n"
      ]
    },
    {
      "cell_type": "code",
      "metadata": {
        "colab": {
          "base_uri": "https://localhost:8080/",
          "height": 701
        },
        "id": "c61a700d",
        "outputId": "f5245aa1-6356-4d1f-eb1b-7ff2cf462842"
      },
      "source": [
        "# Calculate and display the frequency count of each category\n",
        "frequency_count = classified_marks.value_counts()\n",
        "print(\"Frequency Count:\")\n",
        "display(frequency_count)\n",
        "\n",
        "# Calculate and display the percentage of students in each category\n",
        "percentage = classified_marks.value_counts(normalize=True) * 100\n",
        "print(\"\\nPercentage:\")\n",
        "display(percentage)\n",
        "\n",
        "# Display the data type of the classified_marks Series\n",
        "print(\"\\nData Type:\")\n",
        "display(classified_marks.dtype)\n",
        "\n",
        "# Display the structure (head) of the classified_marks Series\n",
        "print(\"\\nStructure (Head):\")\n",
        "display(classified_marks.head())"
      ],
      "execution_count": null,
      "outputs": [
        {
          "output_type": "stream",
          "name": "stdout",
          "text": [
            "Frequency Count:\n"
          ]
        },
        {
          "output_type": "display_data",
          "data": {
            "text/plain": [
              "Pass          4\n",
              "Borderline    3\n",
              "Fail          3\n",
              "Name: count, dtype: int64"
            ],
            "text/html": [
              "<div>\n",
              "<style scoped>\n",
              "    .dataframe tbody tr th:only-of-type {\n",
              "        vertical-align: middle;\n",
              "    }\n",
              "\n",
              "    .dataframe tbody tr th {\n",
              "        vertical-align: top;\n",
              "    }\n",
              "\n",
              "    .dataframe thead th {\n",
              "        text-align: right;\n",
              "    }\n",
              "</style>\n",
              "<table border=\"1\" class=\"dataframe\">\n",
              "  <thead>\n",
              "    <tr style=\"text-align: right;\">\n",
              "      <th></th>\n",
              "      <th>count</th>\n",
              "    </tr>\n",
              "  </thead>\n",
              "  <tbody>\n",
              "    <tr>\n",
              "      <th>Pass</th>\n",
              "      <td>4</td>\n",
              "    </tr>\n",
              "    <tr>\n",
              "      <th>Borderline</th>\n",
              "      <td>3</td>\n",
              "    </tr>\n",
              "    <tr>\n",
              "      <th>Fail</th>\n",
              "      <td>3</td>\n",
              "    </tr>\n",
              "  </tbody>\n",
              "</table>\n",
              "</div><br><label><b>dtype:</b> int64</label>"
            ]
          },
          "metadata": {}
        },
        {
          "output_type": "stream",
          "name": "stdout",
          "text": [
            "\n",
            "Percentage:\n"
          ]
        },
        {
          "output_type": "display_data",
          "data": {
            "text/plain": [
              "Pass          40.0\n",
              "Borderline    30.0\n",
              "Fail          30.0\n",
              "Name: proportion, dtype: float64"
            ],
            "text/html": [
              "<div>\n",
              "<style scoped>\n",
              "    .dataframe tbody tr th:only-of-type {\n",
              "        vertical-align: middle;\n",
              "    }\n",
              "\n",
              "    .dataframe tbody tr th {\n",
              "        vertical-align: top;\n",
              "    }\n",
              "\n",
              "    .dataframe thead th {\n",
              "        text-align: right;\n",
              "    }\n",
              "</style>\n",
              "<table border=\"1\" class=\"dataframe\">\n",
              "  <thead>\n",
              "    <tr style=\"text-align: right;\">\n",
              "      <th></th>\n",
              "      <th>proportion</th>\n",
              "    </tr>\n",
              "  </thead>\n",
              "  <tbody>\n",
              "    <tr>\n",
              "      <th>Pass</th>\n",
              "      <td>40.0</td>\n",
              "    </tr>\n",
              "    <tr>\n",
              "      <th>Borderline</th>\n",
              "      <td>30.0</td>\n",
              "    </tr>\n",
              "    <tr>\n",
              "      <th>Fail</th>\n",
              "      <td>30.0</td>\n",
              "    </tr>\n",
              "  </tbody>\n",
              "</table>\n",
              "</div><br><label><b>dtype:</b> float64</label>"
            ]
          },
          "metadata": {}
        },
        {
          "output_type": "stream",
          "name": "stdout",
          "text": [
            "\n",
            "Data Type:\n"
          ]
        },
        {
          "output_type": "display_data",
          "data": {
            "text/plain": [
              "CategoricalDtype(categories=['Borderline', 'Fail', 'Pass'], ordered=False, categories_dtype=object)"
            ]
          },
          "metadata": {}
        },
        {
          "output_type": "stream",
          "name": "stdout",
          "text": [
            "\n",
            "Structure (Head):\n"
          ]
        },
        {
          "output_type": "display_data",
          "data": {
            "text/plain": [
              "0          Fail\n",
              "1    Borderline\n",
              "2          Pass\n",
              "3          Fail\n",
              "4    Borderline\n",
              "dtype: category\n",
              "Categories (3, object): ['Borderline', 'Fail', 'Pass']"
            ],
            "text/html": [
              "<div>\n",
              "<style scoped>\n",
              "    .dataframe tbody tr th:only-of-type {\n",
              "        vertical-align: middle;\n",
              "    }\n",
              "\n",
              "    .dataframe tbody tr th {\n",
              "        vertical-align: top;\n",
              "    }\n",
              "\n",
              "    .dataframe thead th {\n",
              "        text-align: right;\n",
              "    }\n",
              "</style>\n",
              "<table border=\"1\" class=\"dataframe\">\n",
              "  <thead>\n",
              "    <tr style=\"text-align: right;\">\n",
              "      <th></th>\n",
              "      <th>0</th>\n",
              "    </tr>\n",
              "  </thead>\n",
              "  <tbody>\n",
              "    <tr>\n",
              "      <th>0</th>\n",
              "      <td>Fail</td>\n",
              "    </tr>\n",
              "    <tr>\n",
              "      <th>1</th>\n",
              "      <td>Borderline</td>\n",
              "    </tr>\n",
              "    <tr>\n",
              "      <th>2</th>\n",
              "      <td>Pass</td>\n",
              "    </tr>\n",
              "    <tr>\n",
              "      <th>3</th>\n",
              "      <td>Fail</td>\n",
              "    </tr>\n",
              "    <tr>\n",
              "      <th>4</th>\n",
              "      <td>Borderline</td>\n",
              "    </tr>\n",
              "  </tbody>\n",
              "</table>\n",
              "</div><br><label><b>dtype:</b> category</label>"
            ]
          },
          "metadata": {}
        }
      ]
    },
    {
      "cell_type": "markdown",
      "metadata": {
        "id": "ff926bd5"
      },
      "source": [
        "## Statistical insight\n",
        "\n",
        "### Subtask:\n",
        "Compute and display the mean, median, and standard deviation of the marks, and the number of students at risk (\"Fail\" or \"Borderline\").\n"
      ]
    },
    {
      "cell_type": "markdown",
      "metadata": {
        "id": "e20ef8cf"
      },
      "source": [
        "**Reasoning**:\n",
        "Calculate and print the mean, median, and standard deviation of the student marks and count and print the number of students at risk.\n",
        "\n"
      ]
    },
    {
      "cell_type": "code",
      "metadata": {
        "colab": {
          "base_uri": "https://localhost:8080/"
        },
        "id": "90dc1f7f",
        "outputId": "a73cc254-776a-4c3d-e8c7-afe1a2249d04"
      },
      "source": [
        "import numpy as np\n",
        "\n",
        "# Calculate the mean, median, and standard deviation of the student_marks list\n",
        "mean_marks = np.mean(student_marks)\n",
        "median_marks = np.median(student_marks)\n",
        "std_dev_marks = np.std(student_marks)\n",
        "\n",
        "# Print the calculated values\n",
        "print(f\"Mean of student marks: {mean_marks:.2f}\")\n",
        "print(f\"Median of student marks: {median_marks:.2f}\")\n",
        "print(f\"Standard deviation of student marks: {std_dev_marks:.2f}\")\n",
        "\n",
        "# Count the number of students classified as \"Fail\" or \"Borderline\"\n",
        "at_risk_students = classified_marks[\n",
        "    (classified_marks == \"Fail\") | (classified_marks == \"Borderline\")\n",
        "].count()\n",
        "\n",
        "# Print the count of students at risk\n",
        "print(f\"Number of students at risk (Fail or Borderline): {at_risk_students}\")"
      ],
      "execution_count": null,
      "outputs": [
        {
          "output_type": "stream",
          "name": "stdout",
          "text": [
            "Mean of student marks: 63.80\n",
            "Median of student marks: 65.50\n",
            "Standard deviation of student marks: 18.56\n",
            "Number of students at risk (Fail or Borderline): 6\n"
          ]
        }
      ]
    },
    {
      "cell_type": "markdown",
      "metadata": {
        "id": "f7940dfc"
      },
      "source": [
        "## Summary:\n",
        "\n",
        "### Data Analysis Key Findings\n",
        "\n",
        "*   Student marks were classified into \"Fail\" (\\$< 50\\$), \"Borderline\" (\\$50 \\leq \\text{mark} < 70\\$), and \"Pass\" (\\$ \\geq 70\\$).\n",
        "*   Out of 10 students, 40% passed, 30% were borderline, and 30% failed.\n",
        "*   The mean student mark is approximately 63.80, with a median of 65.50.\n",
        "*   The standard deviation of the marks is approximately 18.56, suggesting a moderate spread in performance.\n",
        "*   6 students are identified as being at risk, classified as either \"Fail\" or \"Borderline\".\n",
        "\n",
        "### Insights or Next Steps\n",
        "\n",
        "*   Focus interventions on the 6 students identified as at risk (\"Fail\" or \"Borderline\") to improve academic outcomes.\n",
        "*   Analyze the distribution of marks further to identify potential areas for curriculum or teaching method adjustments.\n"
      ]
    }
  ]
}